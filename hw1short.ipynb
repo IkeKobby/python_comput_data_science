{
 "cells": [
  {
   "cell_type": "markdown",
   "metadata": {},
   "source": [
    "# Home work one (1) "
   ]
  },
  {
   "cell_type": "markdown",
   "metadata": {},
   "source": [
    "## Problem one"
   ]
  },
  {
   "cell_type": "code",
   "execution_count": 33,
   "metadata": {},
   "outputs": [
    {
     "name": "stdout",
     "output_type": "stream",
     "text": [
      "CCACTGCACTCACCGCACCCGGCCAATTTTTGTGTTTTTAGTAGCAGACTAAATACCATATAGTGAACACCTAAGA\n",
      "CAG\n",
      "44,\n"
     ]
    }
   ],
   "source": [
    "import re\n",
    "with open('./HW1shortData.txt', 'r') as file:\n",
    "    data = file.readlines()\n",
    "data = [data[i].strip('\\n') for i in range(len(data))]\n",
    "mRNA = data[0]\n",
    "motif = data[1]\n",
    "\n",
    "start_pos_of_motif = [match.start() for match in re.finditer(motif, mRNA)]\n",
    "print(mRNA)\n",
    "print(motif)\n",
    "print(*(f\"{i}\" for i in start_pos_of_motif))"
   ]
  },
  {
   "cell_type": "markdown",
   "metadata": {},
   "source": [
    "- Thus, the motif `CAG` occurs starting at the `44th` and ends at `47th` indices since it is three (3) character long. "
   ]
  },
  {
   "cell_type": "markdown",
   "metadata": {},
   "source": [
    "## Problem two (2)\n",
    "\n",
    "### Hamming Distance"
   ]
  },
  {
   "cell_type": "markdown",
   "metadata": {},
   "source": [
    "**Defnition**: The Hamming distance measures the number of positions at which two strings of equal length are different. \n",
    "\n",
    "`Features of the Hamming distance`\n",
    "\n",
    "- **Equal Length Strings**: The Hamming distance is only defined for strings of the same length.\n",
    "- **Position-wise Comparison**: The metric compares the characters (or nucleotides in the case of genome sequences) at each corresponding position in the two strings.\n",
    "- **Counting Differences**: It counts the number of positions where the characters are different. This count represents the Hamming distance.\n",
    "\n",
    "`Limitations`\n",
    "- **Equal Length Restriction**: The major limitation is that it can only be applied to strings of equal length. This makes it unsuitable for comparing sequences that have insertions or deletions.\n",
    "- **Substitution Only**: It only considers substitutions (replacements of one character with another) and does not account for insertions or deletions.\n",
    "\n",
    "`Example Walk-through`\n",
    "\n",
    "The Hamming distance between two DNA sequences using the following two examples:\n",
    "\n",
    "**String 1:  AGCTAG**\\\n",
    "**String 2:  ACTTAG**\n",
    "\n",
    "1. Compare the first position: 'A' is the same in both strings.\n",
    "2. Compare the second position: 'G' is different from 'C'. (Count this as 1 difference)\n",
    "3. Compare the third position: 'C' is the same in both strings.\n",
    "4. Compare the fourth position: 'T' is the same in both strings.\n",
    "5. Compare the fifth position: 'A' is the same in both strings.\n",
    "6. Compare the sixth position: 'G' is the same in both strings.\n",
    "\n",
    "`Result`: There is only one position where the nucleotides differ. Therefore, the Hamming distance between these two sequences is 1."
   ]
  },
  {
   "cell_type": "markdown",
   "metadata": {},
   "source": [
    "## Problem Three (3)"
   ]
  },
  {
   "cell_type": "code",
   "execution_count": 34,
   "metadata": {},
   "outputs": [
    {
     "data": {
      "text/plain": [
       "0"
      ]
     },
     "execution_count": 34,
     "metadata": {},
     "output_type": "execute_result"
    }
   ],
   "source": [
    "# function to calculate hamming distance\n",
    "def hamming_distance(string_one, string_two):\n",
    "    if len(string_one) != len(string_two):\n",
    "        print(\"Error: Strings must be of equal length.\")\n",
    "        return -1\n",
    "\n",
    "    return sum(string_one[i] != string_two[i] for i in range(len(string_one)))\n",
    "hamming_distance(data[2], data[3])"
   ]
  },
  {
   "cell_type": "markdown",
   "metadata": {},
   "source": [
    "- The distance is `0` meaning the two strings are equal. "
   ]
  }
 ],
 "metadata": {
  "kernelspec": {
   "display_name": "base",
   "language": "python",
   "name": "python3"
  },
  "language_info": {
   "codemirror_mode": {
    "name": "ipython",
    "version": 3
   },
   "file_extension": ".py",
   "mimetype": "text/x-python",
   "name": "python",
   "nbconvert_exporter": "python",
   "pygments_lexer": "ipython3",
   "version": "3.9.18"
  }
 },
 "nbformat": 4,
 "nbformat_minor": 2
}
